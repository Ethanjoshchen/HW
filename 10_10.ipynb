{
 "cells": [
  {
   "cell_type": "code",
   "execution_count": 2,
   "id": "da393278",
   "metadata": {},
   "outputs": [
    {
     "name": "stdout",
     "output_type": "stream",
     "text": [
      "1238123701231802731870318023807123780123780137801238103737802317301378012830123780\n",
      "num\tber \\n~~~~~\\\n",
      "\"hello\"\n",
      "Hello!\n",
      "This is second line.\n"
     ]
    },
    {
     "data": {
      "text/plain": [
       "'\\n   1bit : 口 -> 0, 1 -> 0~1\\n   2bits: 口口 -> 2*2 -> 0 ~ 3\\n   \\n   8bits(1bytes)\\n           口口口口口口口口 2^8 -> 0~255\\n           \\n    4bytes - > 32bits -> 2^32 -> 0~2^32-1\\n    int -> 4bytes -> -2^31 ~ 2^31 -1\\n    \\n    i\\n'"
      ]
     },
     "execution_count": 2,
     "metadata": {},
     "output_type": "execute_result"
    }
   ],
   "source": [
    "# declare variable \n",
    "\n",
    "a = 10  # integer  -2^31 ~ 2^31-1\n",
    "        # in c++, int a = 2147483647\n",
    "        # print(a+1) -> -2147483648 (overflow)\n",
    "a = 1238123701231802731870318023807123780123780137801238103737802317301378012830123780\n",
    "print(a)\n",
    "a = 4.5 # double\n",
    "a = 'b' # char\n",
    "a = \"b3wei\" #string\n",
    "a = \"hello\" \n",
    "a = True # boolean : True or False\n",
    "\n",
    "a = \"hello\\\"\" # escape symbol\n",
    "\n",
    "kk = \"num\\tber \\\\n~~~~~\\\\\"\n",
    "print(kk)\n",
    "print('\"hello\"')\n",
    "#print(\"'\"hello\"'\")\n",
    "print(\"Hello!\\nThis is second line.\") # print will add a newline by default\n",
    "\n",
    "\n",
    "'''\n",
    "    escape symbol\n",
    "        \\n : new line\n",
    "        \\t : tab\n",
    "        \\\\ : \\\n",
    "        \\\" : \"\n",
    "\n",
    "'''\n",
    "\n",
    "\n",
    "'''\n",
    "   1bit : 口 -> 0, 1 -> 0~1\n",
    "   2bits: 口口 -> 2*2 -> 0 ~ 3\n",
    "   \n",
    "   8bits(1bytes)\n",
    "           口口口口口口口口 2^8 -> 0~255\n",
    "           \n",
    "    4bytes - > 32bits -> 2^32 -> 0~2^32-1\n",
    "    int -> 4bytes -> -2^31 ~ 2^31 -1\n",
    "    \n",
    "    i\n",
    "'''       \n",
    "\n",
    "\n"
   ]
  },
  {
   "cell_type": "code",
   "execution_count": 3,
   "id": "3fc25675",
   "metadata": {},
   "outputs": [
    {
     "name": "stdout",
     "output_type": "stream",
     "text": [
      "3\n",
      "-1\n",
      "2\n",
      "0.5\n",
      "0.5\n",
      "1\n",
      "False\n",
      "True\n",
      "True\n",
      "False\n"
     ]
    }
   ],
   "source": [
    "print(1 + 2)\n",
    "print(1 - 2)\n",
    "print(1 * 2)\n",
    "print(1 / 2) # 0 in other language\n",
    "print(1. / 2) # the division of double\n",
    "print(11 % 2)\n",
    "print(11 == 2) # == means the equal judgement\n",
    "print(0 == False)\n",
    "print(1 == True)\n",
    "print(1 != True)"
   ]
  },
  {
   "cell_type": "code",
   "execution_count": 5,
   "id": "bf22a6e8",
   "metadata": {},
   "outputs": [
    {
     "name": "stdout",
     "output_type": "stream",
     "text": [
      "HelloSecond sentence\n"
     ]
    }
   ],
   "source": [
    "#print function\n",
    "print(\"Hello\", end=\"\") # by default\n",
    "print(\"Second sentence\")\n",
    "\n",
    "\n"
   ]
  },
  {
   "cell_type": "code",
   "execution_count": 6,
   "id": "dbd64fea",
   "metadata": {},
   "outputs": [
    {
     "name": "stdout",
     "output_type": "stream",
     "text": [
      "100\n",
      "110\n",
      "120\n",
      "30\n"
     ]
    }
   ],
   "source": [
    "#function\n",
    "'''\n",
    "    x -> function -> y\n",
    "    y = f(x)\n",
    "\n",
    "\n",
    "\n",
    "\n",
    "    def function(input)\n",
    "        ..........\n",
    "        \n",
    "        return output\n",
    "\n",
    "\n",
    "'''\n",
    "\n",
    "\n",
    "def multiple10(x):\n",
    "    x = x * 10\n",
    "    print(x)\n",
    "    #print(a)\n",
    "    return \n",
    "    \n",
    "def get100():\n",
    "    return 100\n",
    "\n",
    "def addtwonumber(a, b):\n",
    "    c = a + b\n",
    "    return c\n",
    "\n",
    "# main function not in python \n",
    "# global scope\n",
    "a = 10\n",
    "\n",
    "def main():\n",
    "    a = 10\n",
    "    b = 11\n",
    "    c = 12\n",
    "\n",
    "    '''\n",
    "    a = a * 10\n",
    "    print(a)\n",
    "    b = b * 10\n",
    "    print(b)\n",
    "    c = c * 10\n",
    "    print(c)\n",
    "    '''\n",
    "    multiple10(a)\n",
    "    multiple10(b)\n",
    "    multiple10(c)\n",
    "    a = get100()\n",
    "\n",
    "    c = addtwonumber(10, 20)\n",
    "    print(c)\n",
    "\n",
    "#global scope\n",
    "main()"
   ]
  },
  {
   "cell_type": "code",
   "execution_count": 7,
   "id": "7af6f8be",
   "metadata": {},
   "outputs": [
    {
     "name": "stdout",
     "output_type": "stream",
     "text": [
      "30\n"
     ]
    }
   ],
   "source": [
    "#program1: calculator\n",
    "\n",
    "#input number\n",
    "a = 10\n",
    "\n",
    "b = 20\n",
    "operator = '+'\n",
    "\n",
    "\n",
    "# calculate\n",
    "if(operator == '+'):\n",
    "    print(a + b)\n",
    "elif(operator == '-'):\n",
    "    print(a - b)\n",
    "elif(operator == '*'):\n",
    "    print(a * b)\n",
    "elif(operator == '/'):\n",
    "    print(a / b)\n",
    "else:\n",
    "    print(\"Invalid operation\")\n",
    "\n",
    "\n",
    "\n",
    "\n"
   ]
  },
  {
   "cell_type": "code",
   "execution_count": 8,
   "id": "f34a71aa",
   "metadata": {},
   "outputs": [
    {
     "name": "stdout",
     "output_type": "stream",
     "text": [
      "input your first num : 1\n",
      "input your second num : 2\n",
      "input your operation : +\n",
      "3\n",
      "hello !\n"
     ]
    }
   ],
   "source": [
    "def getUserInput():\n",
    "    a = int(input(\"input your first num : \")) # a address = 0x138aff1f8\n",
    "    b = int(input(\"input your second num : \"))\n",
    "    op = input(\"input your operation : \")\n",
    "    return (a, b, op)\n",
    "    \n",
    "    \n",
    "def calculate(n1, n2, op):\n",
    "    c = None\n",
    "    if(op == '+'):\n",
    "        c = (n1 + n2)\n",
    "    elif(op == '-'):\n",
    "        c = (n1 - n2)\n",
    "    elif(op == '*'):\n",
    "        c = (n1 * n2)\n",
    "    elif(op == '/'):\n",
    "        c = (n1 / n2)\n",
    "    else:\n",
    "        print(\"Invalid operation\")\n",
    "    return c # all variable in function is dead after return \n",
    "\n",
    "\n",
    "\n",
    "\n",
    "def main(): # The memory between different local scope is exclusive \n",
    "    num1, num2, operation = getUserInput() #num1 address : 0x138aff813\n",
    "    #result = 10 + 20\n",
    "    result = calculate(num1, num2, operation)\n",
    "    print(result)\n",
    "    \n",
    "    print(\"hello\" + \" !\")\n",
    "    \n",
    "    \n",
    "    \n",
    "main()"
   ]
  },
  {
   "cell_type": "code",
   "execution_count": 9,
   "id": "6dff60cf",
   "metadata": {},
   "outputs": [
    {
     "name": "stdout",
     "output_type": "stream",
     "text": [
      "20\n",
      "10\n",
      "20101234 [myend] "
     ]
    }
   ],
   "source": [
    "#memory issue\n",
    "\n",
    "# 1. assignment\n",
    "\n",
    "\n",
    "a = 10\n",
    "b = 20\n",
    "\n",
    "tmp = a\n",
    "a = b\n",
    "b = tmp\n",
    "print(a)\n",
    "print(b)\n",
    "print(a, b, 1, 2, 3, 4, sep=\"\", end=\" [myend] \")"
   ]
  },
  {
   "cell_type": "code",
   "execution_count": 10,
   "id": "0cdd3522",
   "metadata": {},
   "outputs": [
    {
     "name": "stdout",
     "output_type": "stream",
     "text": [
      "100\n"
     ]
    }
   ],
   "source": [
    "\n",
    "# 2. function parameter passing\n",
    "\n",
    "def addone(x): # x is a variable different from num1\n",
    "    x = x + 1\n",
    "    return\n",
    "\n",
    "def main():\n",
    "    num1 = 100\n",
    "    addone(num1)\n",
    "\n",
    "    print(num1)\n",
    "    \n",
    "main()\n",
    "\n"
   ]
  },
  {
   "cell_type": "code",
   "execution_count": 11,
   "id": "2ab8fdda",
   "metadata": {},
   "outputs": [
    {
     "name": "stdout",
     "output_type": "stream",
     "text": [
      "101\n"
     ]
    }
   ],
   "source": [
    "\n",
    "# 2. function parameter passing\n",
    "\n",
    "def addone(x): # x is a variable different from num1\n",
    "    x = x + 1\n",
    "    return x\n",
    "\n",
    "def main():\n",
    "    num1 = 100\n",
    "    num1 = addone(num1)\n",
    "\n",
    "    print(num1)\n",
    "    \n",
    "main()\n",
    "\n"
   ]
  },
  {
   "cell_type": "code",
   "execution_count": 12,
   "id": "e97cf6fd",
   "metadata": {},
   "outputs": [
    {
     "name": "stdout",
     "output_type": "stream",
     "text": [
      "H y ! e Hello ever\n",
      "Hello everyone! Hello everyone Hello everyone!\n",
      "Hloeeyn!\n",
      "!enoyreve olleH\n",
      "<class 'int'>\n",
      "<class 'str'>\n",
      "nihao everyone!\n",
      "Hello everyone!\n",
      "HELLO EVERYONE!\n",
      "hello everyone!\n"
     ]
    }
   ],
   "source": [
    "def modify(str1):\n",
    "    #str1 = str1 + \"12345\"\n",
    "\n",
    "    for k in range(len(str1)):\n",
    "        str1 = str1[:k] + str1[k].upper() + str1[k+1:]\n",
    "    #for i in range(len(str1)):\n",
    "        \n",
    "    \n",
    "    return str1\n",
    "def main():\n",
    "    mystr =\"Hello everyone!\"\n",
    "    print(mystr[0], mystr[10], mystr[-1], mystr[-2], mystr[0:10])\n",
    "    print(mystr, mystr[0:-1], mystr[ : ])\n",
    "    print(mystr[::2])\n",
    "    print(mystr[::-1])\n",
    "    print(type(len(mystr)))\n",
    "    print(type(mystr))\n",
    "    print(mystr.replace(\"Hello\", \"nihao\")) # method is like a function but belongs to its class\n",
    "    print(mystr)\n",
    "    #modify(mystr)\n",
    "    #print(mystr)\n",
    "    \n",
    "    \n",
    "    mystr = modify(mystr)\n",
    "    print(mystr)\n",
    "    print(mystr.lower())\n",
    "\n",
    "main()"
   ]
  }
 ],
 "metadata": {
  "kernelspec": {
   "display_name": "Python 3.9.12 ('base')",
   "language": "python",
   "name": "python3"
  },
  "language_info": {
   "codemirror_mode": {
    "name": "ipython",
    "version": 3
   },
   "file_extension": ".py",
   "mimetype": "text/x-python",
   "name": "python",
   "nbconvert_exporter": "python",
   "pygments_lexer": "ipython3",
   "version": "3.9.12"
  },
  "vscode": {
   "interpreter": {
    "hash": "2a43d5810416e4441dbaf240369cd6b8ec5bc2285968994e6b1b3889444f1ce1"
   }
  }
 },
 "nbformat": 4,
 "nbformat_minor": 5
}
