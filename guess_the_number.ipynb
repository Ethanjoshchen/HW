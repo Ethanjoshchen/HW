{
 "cells": [
  {
   "cell_type": "code",
   "execution_count": 1,
   "id": "673da532",
   "metadata": {},
   "outputs": [
    {
     "name": "stdout",
     "output_type": "stream",
     "text": [
      "Please think of a number between 0 and 100!\n",
      "Is your secret number 50 ?\n",
      "Is your secret number 25 ?\n",
      "Is your secret number 12 ?\n",
      "Is your secret number 18 ?\n",
      "Game over. Your secret number was: 18\n"
     ]
    }
   ],
   "source": [
    "print('Please think of a number between 0 and 100!')\n",
    "\n",
    "low = 0\n",
    "high = 100\n",
    "\n",
    "while True:\n",
    "    guess = (high + low)//2\n",
    "    print(f'Is your secret number {guess} ?')\n",
    "    a = input(\"Enter 'h' to indicate the guess is too high. Enter 'l' to indicate the guess is too low. Enter 'c' to indicate I guessed correctly.\")\n",
    "    if a == 'c':\n",
    "        print(f'Game over. Your secret number was: {guess}')\n",
    "        break\n",
    "    elif a == 'l':\n",
    "        low = guess\n",
    "    elif a == 'h':\n",
    "        high = guess\n",
    "    else:\n",
    "        print('Sorry, I did not understand your input.')"
   ]
  },
  {
   "cell_type": "code",
   "execution_count": 5,
   "id": "261e862f",
   "metadata": {},
   "outputs": [
    {
     "name": "stdout",
     "output_type": "stream",
     "text": [
      "Please think of a number between 0 and 100!\n",
      "Is your secret number 50 ?\n",
      "Enter 'h' to indicate the guess is too high. Enter 'l' to indicate the guess is too low. Enter 'c' to indicate I guessed correctly.h\n",
      "Is your secret number 25 ?\n",
      "Enter 'h' to indicate the guess is too high. Enter 'l' to indicate the guess is too low. Enter 'c' to indicate I guessed correctly.h\n",
      "Is your secret number 12 ?\n",
      "Enter 'h' to indicate the guess is too high. Enter 'l' to indicate the guess is too low. Enter 'c' to indicate I guessed correctly.h\n",
      "Is your secret number 6 ?\n",
      "Enter 'h' to indicate the guess is too high. Enter 'l' to indicate the guess is too low. Enter 'c' to indicate I guessed correctly.c\n",
      "Game over. Your secret number was: 6\n"
     ]
    }
   ],
   "source": [
    "low = 0\n",
    "high = 100\n",
    "print('Please think of a number between 0 and 100!')\n",
    "while True:\n",
    "    guess = (high + low)//2\n",
    "    print('Is your secret number ' + str(guess) + ' ?')\n",
    "    a = input(\"Enter 'h' to indicate the guess is too high. Enter 'l' to indicate the guess is too low. Enter 'c' to indicate I guessed correctly.\")\n",
    "    if a == 'c':\n",
    "        print('Game over. Your secret number was:', str(guess))\n",
    "        break\n",
    "    elif a == 'l':\n",
    "        low = guess\n",
    "    elif a == 'h':\n",
    "        high = guess\n",
    "    else:\n",
    "        print('Sorry, I did not understand your input.')"
   ]
  },
  {
   "cell_type": "code",
   "execution_count": 3,
   "id": "977fb612",
   "metadata": {},
   "outputs": [
    {
     "name": "stdout",
     "output_type": "stream",
     "text": [
      "Iteration 0; count is: 1\n",
      "Iteration 1; count is: 12\n",
      "Iteration 2; count is: 1\n",
      "Iteration 3; count is: 12\n",
      "Iteration 4; count is: 1\n"
     ]
    }
   ],
   "source": [
    "iteration = 0\n",
    "\n",
    "while iteration < 5:\n",
    "\n",
    "    count = 0\n",
    "\n",
    "    for letter in \"hello, world\":\n",
    "\n",
    "        count += 1\n",
    "\n",
    "        if iteration % 2 == 0:\n",
    "\n",
    "            break\n",
    "\n",
    "    print(\"Iteration \" + str(iteration) + \"; count is: \" + str(count))\n",
    "\n",
    "    iteration += 1"
   ]
  },
  {
   "cell_type": "code",
   "execution_count": null,
   "id": "fbaf1a24",
   "metadata": {},
   "outputs": [],
   "source": []
  }
 ],
 "metadata": {
  "kernelspec": {
   "display_name": "Python 3.9.12 ('base')",
   "language": "python",
   "name": "python3"
  },
  "language_info": {
   "codemirror_mode": {
    "name": "ipython",
    "version": 3
   },
   "file_extension": ".py",
   "mimetype": "text/x-python",
   "name": "python",
   "nbconvert_exporter": "python",
   "pygments_lexer": "ipython3",
   "version": "3.9.12"
  },
  "vscode": {
   "interpreter": {
    "hash": "2a43d5810416e4441dbaf240369cd6b8ec5bc2285968994e6b1b3889444f1ce1"
   }
  }
 },
 "nbformat": 4,
 "nbformat_minor": 5
}
